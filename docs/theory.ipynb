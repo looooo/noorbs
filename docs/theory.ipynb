{
 "cells": [
  {
   "cell_type": "markdown",
   "metadata": {},
   "source": [
    "# Least-square conformal map directly applied to nurbs surfaces\n",
    "\n",
    "A use case of least square conformal maps is the mapping of mesh (triangle-surface) to a flat plane. This is normally used for textureing meshes. Given the fact that the lest-square conformal map can produce the exact flattened surface for developable surface we try to perform the lscm method on spline-surfaces to optain a unwrapped representation of the nurbs-surface.\n",
    "\n",
    "First a collocation method should be use to solve for conformity on nurbs surfaces. If this works for developable surfaces the extension to a weighted least-square method will be explored.\n",
    "\n",
    "## Conformal Energy\n",
    "\n",
    "Let a suface be represented by a Nurbs Interpolation.\n",
    "\n",
    "Then we have already a mapping between the from the uv-system to the xyz system. We now want to find another map from uv to lm which minimize a certain criteria. min(E(u, v)\n",
    " "
   ]
  },
  {
   "cell_type": "code",
   "execution_count": null,
   "metadata": {
    "collapsed": true
   },
   "outputs": [],
   "source": []
  }
 ],
 "metadata": {
  "kernelspec": {
   "display_name": "Python 2",
   "language": "python",
   "name": "python2"
  },
  "language_info": {
   "codemirror_mode": {
    "name": "ipython",
    "version": 2
   },
   "file_extension": ".py",
   "mimetype": "text/x-python",
   "name": "python",
   "nbconvert_exporter": "python",
   "pygments_lexer": "ipython2",
   "version": "2.7.12"
  }
 },
 "nbformat": 4,
 "nbformat_minor": 1
}
